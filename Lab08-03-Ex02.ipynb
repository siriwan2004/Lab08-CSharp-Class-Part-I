{
 "cells": [
  {
   "cell_type": "markdown",
   "metadata": {},
   "source": [
    "# Lab 8 Exercise 2\n",
    "\n",
    "## การประกาศสมาชิกในคลาส (fields)\n"
   ]
  },
  {
   "cell_type": "markdown",
   "metadata": {},
   "source": [
    "\n",
    "\n",
    "1. สร้าง console application project\n",
    "\n",
    "```\n",
    "    dotnet new console --name Lab08_Ex02\n",
    "```\n"
   ]
  },
  {
   "cell_type": "markdown",
   "metadata": {},
   "source": [
    "\n",
    "2. เปลี่ยน code ให้เป็นดังต่อไปนี้ (ตัวเลขข้างหน้า คือหมายเลขบรรทัด ไว้สำหรับอ้างอิง)\n",
    "\n",
    "> ```csharp\n",
    ">  1. Person p = new Person();\n",
    ">  2. p.name = \"Rambo\";\n",
    ">  3. p.id = \"1987\";\n",
    ">  4. p.income = 2500;\n",
    ">  5. System.Console.WriteLine($\"Type of p is {p.GetType()}\");\n",
    ">  6. System.Console.WriteLine($\"p.name = {p.name}\\ttype = {p.name.GetType()}\");\n",
    ">  7. System.Console.WriteLine($\"p.id = {p.id}\\ttype = {p.id.GetType()}\");\n",
    ">  8. System.Console.WriteLine($\"p.income = {p.income}\\ttype = {p.income.GetType()}\");\n",
    ">  9. \n",
    "> 10. class Person\n",
    "> 11. {\n",
    "> 12.     string name;\n",
    "> 13.     string id;\n",
    "> 14.     int income;\n",
    "> 15. }\n",
    "> ```\n"
   ]
  },
  {
   "cell_type": "markdown",
   "metadata": {},
   "source": [
    "\n",
    "3. Build project โดยการใช้คำสั่ง\n",
    "\n",
    "```\n",
    "    dotnet build  Lab08_Ex02\n",
    "```\n"
   ]
  },
  {
   "cell_type": "markdown",
   "metadata": {},
   "source": [
    "\n",
    "4. บันทึกผลที่ได้จากการรันคำสั่งในข้อ 3\n"
   ]
  },
  {
   "cell_type": "markdown",
   "metadata": {},
   "source": [
    "*คำตอบ*"
   ]
  },
  {
   "cell_type": "markdown",
   "metadata": {},
   "source": [
    "PS D:\\OOP\\Lab08\\Lab08-CSharp-Class-Part-I-1> dotnet build  Lab08_Ex02\n",
    "  Determining projects to restore...\n",
    "  All projects are up-to-date for restore.\n",
    "D:\\OOP\\Lab08\\Lab08-CSharp-Class-Part-I-1\\Lab08_Ex02\\Program.cs(12,14): warning CS8618: Non-nullable field 'name' must contain a non-null value when e\n",
    "xiting constructor. Consider adding the 'required' modifier or declaring the field as nullable. [D:\\OOP\\Lab08\\Lab08-CSharp-Class-Part-I-1\\Lab08_Ex02\\ \n",
    "Lab08_Ex02.csproj]\n",
    "D:\\OOP\\Lab08\\Lab08-CSharp-Class-Part-I-1\\Lab08_Ex02\\Program.cs(13,14): warning CS8618: Non-nullable field 'id' must contain a non-null value when exi \n",
    "ting constructor. Consider adding the 'required' modifier or declaring the field as nullable. [D:\\OOP\\Lab08\\Lab08-CSharp-Class-Part-I-1\\Lab08_Ex02\\La \n",
    "b08_Ex02.csproj]\n",
    "D:\\OOP\\Lab08\\Lab08-CSharp-Class-Part-I-1\\Lab08_Ex02\\Program.cs(2,6): error CS0122: 'Person.name' is inaccessible due to its protection level [D:\\OOP\\ \n",
    "Lab08\\Lab08-CSharp-Class-Part-I-1\\Lab08_Ex02\\Lab08_Ex02.csproj]\n",
    "D:\\OOP\\Lab08\\Lab08-CSharp-Class-Part-I-1\\Lab08_Ex02\\Program.cs(3,6): error CS0122: 'Person.id' is inaccessible due to its protection level [D:\\OOP\\La \n",
    "b08\\Lab08-CSharp-Class-Part-I-1\\Lab08_Ex02\\Lab08_Ex02.csproj]\n",
    "D:\\OOP\\Lab08\\Lab08-CSharp-Class-Part-I-1\\Lab08_Ex02\\Program.cs(4,6): error CS0122: 'Person.income' is inaccessible due to its protection level [D:\\OO \n",
    "P\\Lab08\\Lab08-CSharp-Class-Part-I-1\\Lab08_Ex02\\Lab08_Ex02.csproj]\n",
    "D:\\OOP\\Lab08\\Lab08-CSharp-Class-Part-I-1\\Lab08_Ex02\\Program.cs(6,43): error CS0122: 'Person.name' is inaccessible due to its protection level [D:\\OOP \n",
    "\\Lab08\\Lab08-CSharp-Class-Part-I-1\\Lab08_Ex02\\Lab08_Ex02.csproj]\n",
    "D:\\OOP\\Lab08\\Lab08-CSharp-Class-Part-I-1\\Lab08_Ex02\\Program.cs(6,60): error CS0122: 'Person.name' is inaccessible due to its protection level [D:\\OOP \n",
    "\\Lab08\\Lab08-CSharp-Class-Part-I-1\\Lab08_Ex02\\Lab08_Ex02.csproj]\n",
    "D:\\OOP\\Lab08\\Lab08-CSharp-Class-Part-I-1\\Lab08_Ex02\\Program.cs(7,41): error CS0122: 'Person.id' is inaccessible due to its protection level [D:\\OOP\\L \n",
    "ab08\\Lab08-CSharp-Class-Part-I-1\\Lab08_Ex02\\Lab08_Ex02.csproj]\n",
    "D:\\OOP\\Lab08\\Lab08-CSharp-Class-Part-I-1\\Lab08_Ex02\\Program.cs(7,56): error CS0122: 'Person.id' is inaccessible due to its protection level [D:\\OOP\\L \n",
    "ab08\\Lab08-CSharp-Class-Part-I-1\\Lab08_Ex02\\Lab08_Ex02.csproj]\n",
    "D:\\OOP\\Lab08\\Lab08-CSharp-Class-Part-I-1\\Lab08_Ex02\\Program.cs(8,45): error CS0122: 'Person.income' is inaccessible due to its protection level [D:\\O \n",
    "OP\\Lab08\\Lab08-CSharp-Class-Part-I-1\\Lab08_Ex02\\Lab08_Ex02.csproj]\n",
    "D:\\OOP\\Lab08\\Lab08-CSharp-Class-Part-I-1\\Lab08_Ex02\\Program.cs(8,64): error CS0122: 'Person.income' is inaccessible due to its protection level [D:\\O \n",
    "OP\\Lab08\\Lab08-CSharp-Class-Part-I-1\\Lab08_Ex02\\Lab08_Ex02.csproj]\n",
    "D:\\OOP\\Lab08\\Lab08-CSharp-Class-Part-I-1\\Lab08_Ex02\\Program.cs(13,14): warning CS0169: The field 'Person.id' is never used [D:\\OOP\\Lab08\\Lab08-CSharp \n",
    "-Class-Part-I-1\\Lab08_Ex02\\Lab08_Ex02.csproj]\n",
    "D:\\OOP\\Lab08\\Lab08-CSharp-Class-Part-I-1\\Lab08_Ex02\\Program.cs(12,14): warning CS0169: The field 'Person.name' is never used [D:\\OOP\\Lab08\\Lab08-CSha \n",
    "rp-Class-Part-I-1\\Lab08_Ex02\\Lab08_Ex02.csproj]\n",
    "D:\\OOP\\Lab08\\Lab08-CSharp-Class-Part-I-1\\Lab08_Ex02\\Program.cs(14,11): warning CS0169: The field 'Person.income' is never used [D:\\OOP\\Lab08\\Lab08-CS \n",
    "harp-Class-Part-I-1\\Lab08_Ex02\\Lab08_Ex02.csproj]\n",
    "\n",
    "Build FAILED.\n",
    "\n",
    "D:\\OOP\\Lab08\\Lab08-CSharp-Class-Part-I-1\\Lab08_Ex02\\Program.cs(12,14): warning CS8618: Non-nullable field 'name' must contain a non-null value when e \n",
    "xiting constructor. Consider adding the 'required' modifier or declaring the field as nullable. [D:\\OOP\\Lab08\\Lab08-CSharp-Class-Part-I-1\\Lab08_Ex02\\ \n",
    "Lab08_Ex02.csproj]\n",
    "D:\\OOP\\Lab08\\Lab08-CSharp-Class-Part-I-1\\Lab08_Ex02\\Program.cs(13,14): warning CS8618: Non-nullable field 'id' must contain a non-null value when exi \n",
    "ting constructor. Consider adding the 'required' modifier or declaring the field as nullable. [D:\\OOP\\Lab08\\Lab08-CSharp-Class-Part-I-1\\Lab08_Ex02\\La \n",
    "b08_Ex02.csproj]\n",
    "D:\\OOP\\Lab08\\Lab08-CSharp-Class-Part-I-1\\Lab08_Ex02\\Program.cs(13,14): warning CS0169: The field 'Person.id' is never used [D:\\OOP\\Lab08\\Lab08-CSharp \n",
    "-Class-Part-I-1\\Lab08_Ex02\\Lab08_Ex02.csproj]\n",
    "D:\\OOP\\Lab08\\Lab08-CSharp-Class-Part-I-1\\Lab08_Ex02\\Program.cs(12,14): warning CS0169: The field 'Person.name' is never used [D:\\OOP\\Lab08\\Lab08-CSha \n",
    "rp-Class-Part-I-1\\Lab08_Ex02\\Lab08_Ex02.csproj]\n",
    "D:\\OOP\\Lab08\\Lab08-CSharp-Class-Part-I-1\\Lab08_Ex02\\Program.cs(14,11): warning CS0169: The field 'Person.income' is never used [D:\\OOP\\Lab08\\Lab08-CS \n",
    "harp-Class-Part-I-1\\Lab08_Ex02\\Lab08_Ex02.csproj]\n",
    "D:\\OOP\\Lab08\\Lab08-CSharp-Class-Part-I-1\\Lab08_Ex02\\Program.cs(2,6): error CS0122: 'Person.name' is inaccessible due to its protection level [D:\\OOP\\ \n",
    "Lab08\\Lab08-CSharp-Class-Part-I-1\\Lab08_Ex02\\Lab08_Ex02.csproj]\n",
    "D:\\OOP\\Lab08\\Lab08-CSharp-Class-Part-I-1\\Lab08_Ex02\\Program.cs(3,6): error CS0122: 'Person.id' is inaccessible due to its protection level [D:\\OOP\\La \n",
    "b08\\Lab08-CSharp-Class-Part-I-1\\Lab08_Ex02\\Lab08_Ex02.csproj]\n",
    "D:\\OOP\\Lab08\\Lab08-CSharp-Class-Part-I-1\\Lab08_Ex02\\Program.cs(4,6): error CS0122: 'Person.income' is inaccessible due to its protection level [D:\\OO \n",
    "P\\Lab08\\Lab08-CSharp-Class-Part-I-1\\Lab08_Ex02\\Lab08_Ex02.csproj]\n",
    "D:\\OOP\\Lab08\\Lab08-CSharp-Class-Part-I-1\\Lab08_Ex02\\Program.cs(6,43): error CS0122: 'Person.name' is inaccessible due to its protection level [D:\\OOP \n",
    "\\Lab08\\Lab08-CSharp-Class-Part-I-1\\Lab08_Ex02\\Lab08_Ex02.csproj]\n",
    "D:\\OOP\\Lab08\\Lab08-CSharp-Class-Part-I-1\\Lab08_Ex02\\Program.cs(6,60): error CS0122: 'Person.name' is inaccessible due to its protection level [D:\\OOP \n",
    "\\Lab08\\Lab08-CSharp-Class-Part-I-1\\Lab08_Ex02\\Lab08_Ex02.csproj]\n",
    "D:\\OOP\\Lab08\\Lab08-CSharp-Class-Part-I-1\\Lab08_Ex02\\Program.cs(7,41): error CS0122: 'Person.id' is inaccessible due to its protection level [D:\\OOP\\L \n",
    "ab08\\Lab08-CSharp-Class-Part-I-1\\Lab08_Ex02\\Lab08_Ex02.csproj]\n",
    "D:\\OOP\\Lab08\\Lab08-CSharp-Class-Part-I-1\\Lab08_Ex02\\Program.cs(7,56): error CS0122: 'Person.id' is inaccessible due to its protection level [D:\\OOP\\L \n",
    "ab08\\Lab08-CSharp-Class-Part-I-1\\Lab08_Ex02\\Lab08_Ex02.csproj]\n",
    "D:\\OOP\\Lab08\\Lab08-CSharp-Class-Part-I-1\\Lab08_Ex02\\Program.cs(8,45): error CS0122: 'Person.income' is inaccessible due to its protection level [D:\\O \n",
    "OP\\Lab08\\Lab08-CSharp-Class-Part-I-1\\Lab08_Ex02\\Lab08_Ex02.csproj]\n",
    "D:\\OOP\\Lab08\\Lab08-CSharp-Class-Part-I-1\\Lab08_Ex02\\Program.cs(8,64): error CS0122: 'Person.income' is inaccessible due to its protection level [D:\\O \n",
    "OP\\Lab08\\Lab08-CSharp-Class-Part-I-1\\Lab08_Ex02\\Lab08_Ex02.csproj]\n",
    "    5 Warning(s)\n",
    "    9 Error(s)\n",
    "\n",
    "Time Elapsed 00:00:03.76\n",
    "\n",
    "Workload updates are available. Run `dotnet workload list` for more information.\n",
    "\n",
    "ด้านล่างนี้คือcodeที่แก้ไขแล้ว"
   ]
  },
  {
   "cell_type": "markdown",
   "metadata": {},
   "source": [
    "```csharp\n",
    "  using System;\n",
    "\n",
    "class Program\n",
    "{\n",
    "    static void Main()\n",
    "    {\n",
    "        Person p = new Person();\n",
    "        p.Name = \"Rambo\";  // Using properties\n",
    "        p.Id = \"1987\";\n",
    "        p.Income = 2500;\n",
    "\n",
    "        Console.WriteLine($\"Type of p is {p.GetType()}\");\n",
    "        Console.WriteLine($\"p.Name = {p.Name}\\ttype = {p.Name.GetType()}\");\n",
    "        Console.WriteLine($\"p.Id = {p.Id}\\ttype = {p.Id.GetType()}\");\n",
    "        Console.WriteLine($\"p.Income = {p.Income}\\ttype = {p.Income.GetType()}\");\n",
    "    }\n",
    "}\n",
    "\n",
    "class Person\n",
    "{\n",
    "    // Use public properties with get and set\n",
    "    public string Name { get; set; }\n",
    "    public string Id { get; set; }\n",
    "    public int Income { get; set; }\n",
    "\n",
    "    // Constructor to initialize fields (optional)\n",
    "    public Person()\n",
    "    {\n",
    "        Name = \"\";\n",
    "        Id = \"\";\n",
    "        Income = 0;\n",
    "    }\n",
    "}\n",
    "\n",
    " ```"
   ]
  },
  {
   "cell_type": "markdown",
   "metadata": {},
   "source": []
  },
  {
   "cell_type": "markdown",
   "metadata": {},
   "source": [
    "\n",
    "5. Run project โดยการใช้คำสั่ง\n",
    "\n",
    "```\n",
    "    dotnet run --project Lab08_Ex02\n",
    "```\n"
   ]
  },
  {
   "cell_type": "markdown",
   "metadata": {},
   "source": [
    "\n",
    "6. บันทึกผลที่ได้จากการรันคำสั่งในข้อ 5\n",
    "\n"
   ]
  },
  {
   "cell_type": "markdown",
   "metadata": {},
   "source": [
    "*คำตอบ*"
   ]
  },
  {
   "attachments": {
    "image.png": {
     "image/png": "[encoded data removed]"
    }
   },
   "cell_type": "markdown",
   "metadata": {},
   "source": [
    "![image.png](attachment:image.png)"
   ]
  },
  {
   "cell_type": "markdown",
   "metadata": {},
   "source": []
  },
  {
   "cell_type": "markdown",
   "metadata": {},
   "source": [
    "\n",
    "7. อธิบายสิ่งที่พบในการทดลอง\n",
    "\n"
   ]
  },
  {
   "cell_type": "markdown",
   "metadata": {},
   "source": [
    "*คำตอบ*"
   ]
  },
  {
   "cell_type": "markdown",
   "metadata": {},
   "source": []
  },
  {
   "cell_type": "markdown",
   "metadata": {},
   "source": [
    "8. นำ code ในข้อ 2 มารันบน polyglot notebook  โดยใส่ใน  code cell ด้านล่างนี้\n"
   ]
  },
  {
   "cell_type": "code",
   "execution_count": 6,
   "metadata": {
    "vscode": {
     "languageId": "polyglot-notebook"
    }
   },
   "outputs": [
    {
     "ename": "Error",
     "evalue": "(2,3): error CS0122: 'Person.name' is inaccessible due to its protection level\r\n(3,3): error CS0122: 'Person.id' is inaccessible due to its protection level\r\n(4,3): error CS0122: 'Person.income' is inaccessible due to its protection level\r\n(6,40): error CS0122: 'Person.name' is inaccessible due to its protection level\r\n(6,57): error CS0122: 'Person.name' is inaccessible due to its protection level\r\n(7,38): error CS0122: 'Person.id' is inaccessible due to its protection level\r\n(7,53): error CS0122: 'Person.id' is inaccessible due to its protection level\r\n(8,42): error CS0122: 'Person.income' is inaccessible due to its protection level\r\n(8,61): error CS0122: 'Person.income' is inaccessible due to its protection level",
     "output_type": "error",
     "traceback": [
      "(2,3): error CS0122: 'Person.name' is inaccessible due to its protection level\r\n",
      "(3,3): error CS0122: 'Person.id' is inaccessible due to its protection level\r\n",
      "(4,3): error CS0122: 'Person.income' is inaccessible due to its protection level\r\n",
      "(6,40): error CS0122: 'Person.name' is inaccessible due to its protection level\r\n",
      "(6,57): error CS0122: 'Person.name' is inaccessible due to its protection level\r\n",
      "(7,38): error CS0122: 'Person.id' is inaccessible due to its protection level\r\n",
      "(7,53): error CS0122: 'Person.id' is inaccessible due to its protection level\r\n",
      "(8,42): error CS0122: 'Person.income' is inaccessible due to its protection level\r\n",
      "(8,61): error CS0122: 'Person.income' is inaccessible due to its protection level"
     ]
    }
   ],
   "source": [
    "Person p = new Person();\n",
    "p.name = \"Rambo\";\n",
    "p.id = \"1987\";\n",
    "p.income = 2500;\n",
    "System.Console.WriteLine($\"Type of p is {p.GetType()}\");\n",
    "System.Console.WriteLine($\"p.name = {p.name}\\ttype = {p.name.GetType()}\");\n",
    "System.Console.WriteLine($\"p.id = {p.id}\\ttype = {p.id.GetType()}\");\n",
    "System.Console.WriteLine($\"p.income = {p.income}\\ttype = {p.income.GetType()}\");\n",
    " \n",
    "class Person\n",
    "{\n",
    "    string name;\n",
    "    string id;\n",
    "    int income;\n",
    "}\n"
   ]
  },
  {
   "cell_type": "markdown",
   "metadata": {},
   "source": [
    "8.1 ผลการรันเป็นอย่างไร\n",
    "\n"
   ]
  },
  {
   "cell_type": "markdown",
   "metadata": {},
   "source": [
    "*คำตอบ*"
   ]
  },
  {
   "attachments": {
    "image.png": {
     "image/png": "[encoded data removed]"
    }
   },
   "cell_type": "markdown",
   "metadata": {},
   "source": [
    "![image.png](attachment:image.png)"
   ]
  },
  {
   "cell_type": "markdown",
   "metadata": {},
   "source": []
  },
  {
   "cell_type": "markdown",
   "metadata": {},
   "source": [
    "8.2 เหมือนหรือค่างจาก console application อย่างไร"
   ]
  },
  {
   "cell_type": "markdown",
   "metadata": {},
   "source": [
    "*คำตอบ*"
   ]
  },
  {
   "cell_type": "markdown",
   "metadata": {},
   "source": []
  },
  {
   "cell_type": "markdown",
   "metadata": {},
   "source": [
    "## คำถาม"
   ]
  },
  {
   "cell_type": "markdown",
   "metadata": {},
   "source": [
    "1. Field ในภาษา C# คืออะไร\n"
   ]
  },
  {
   "cell_type": "markdown",
   "metadata": {},
   "source": [
    "*คำตอบ*"
   ]
  },
  {
   "cell_type": "markdown",
   "metadata": {},
   "source": []
  },
  {
   "cell_type": "markdown",
   "metadata": {},
   "source": [
    "2. Field มีหน้าที่อะไรใน class \n"
   ]
  },
  {
   "cell_type": "markdown",
   "metadata": {},
   "source": [
    "*คำตอบ*"
   ]
  },
  {
   "cell_type": "markdown",
   "metadata": {},
   "source": []
  },
  {
   "cell_type": "markdown",
   "metadata": {},
   "source": [
    "3. การประกาศ Field ทำได้อย่างไร ให้อธิบายรูปแบบการประกาศ field ในคลาส\n"
   ]
  },
  {
   "cell_type": "markdown",
   "metadata": {},
   "source": [
    "*คำตอบ*"
   ]
  },
  {
   "cell_type": "markdown",
   "metadata": {},
   "source": []
  },
  {
   "cell_type": "markdown",
   "metadata": {},
   "source": [
    "4. Field และ Variable แตกต่างกันอย่างไร\n"
   ]
  },
  {
   "cell_type": "markdown",
   "metadata": {},
   "source": [
    "5. เมื่อไหร่ควรใช้ Field และเมื่อไหร่ควรใช้ Variable"
   ]
  },
  {
   "cell_type": "markdown",
   "metadata": {},
   "source": [
    "*คำตอบ*"
   ]
  },
  {
   "cell_type": "markdown",
   "metadata": {},
   "source": []
  },
  {
   "cell_type": "markdown",
   "metadata": {},
   "source": [
    "6. ในโปรแกรมการทดลองนี้ มี field หรือไม่ อยู่ในบรรทัดที่เท่าไหร่\n"
   ]
  },
  {
   "cell_type": "markdown",
   "metadata": {},
   "source": [
    "*คำตอบ*"
   ]
  },
  {
   "cell_type": "markdown",
   "metadata": {},
   "source": []
  },
  {
   "cell_type": "markdown",
   "metadata": {},
   "source": [
    "7. ผลจากการรันโปรแกรมใน Console Application และใน polyglot notebook เหมือนหรือแตกต่างกันอย่างไร"
   ]
  },
  {
   "cell_type": "markdown",
   "metadata": {},
   "source": [
    "*คำตอบ*"
   ]
  },
  {
   "cell_type": "markdown",
   "metadata": {},
   "source": []
  }
 ],
 "metadata": {
  "kernelspec": {
   "display_name": ".NET (C#)",
   "language": "C#",
   "name": ".net-csharp"
  },
  "language_info": {
   "codemirror_mode": {
    "name": "ipython",
    "version": 3
   },
   "file_extension": ".py",
   "mimetype": "text/x-python",
   "name": "python",
   "nbconvert_exporter": "python",
   "pygments_lexer": "ipython3",
   "version": "3.13.1"
  },
  "polyglot_notebook": {
   "kernelInfo": {
    "defaultKernelName": "csharp",
    "items": [
     {
      "aliases": [],
      "languageName": "csharp",
      "name": "csharp"
     }
    ]
   }
  }
 },
 "nbformat": 4,
 "nbformat_minor": 2
}
