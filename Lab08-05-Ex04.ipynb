{
 "cells": [
  {
   "cell_type": "markdown",
   "metadata": {},
   "source": [
    "# Lab 8 Exercise 4\n",
    "\n",
    "## Fields declaration and initialization\n",
    "\n"
   ]
  },
  {
   "cell_type": "markdown",
   "metadata": {},
   "source": [
    "\n",
    "1. สร้าง console application project\n",
    "\n",
    "```\n",
    "    dotnet new console --name Lab08_Ex04\n",
    "```\n"
   ]
  },
  {
   "cell_type": "markdown",
   "metadata": {},
   "source": [
    "\n",
    "2. เปลี่ยน code ให้เป็นดังต่อไปนี้\n",
    "\n",
    "> ```csharp\n",
    ">  1. var myObj = new MyClass();\n",
    ">  2. \n",
    ">  3. System.Console.WriteLine($\"Default integer      F1 = {myObj.F1}\");  //Implicit fields initialization\n",
    ">  4. System.Console.WriteLine($\"Default string       F2 = {myObj.F2}\");\n",
    ">  5. System.Console.WriteLine($\"Initialized integer  F3 = {myObj.F3}\");  //Explicit field initialization\n",
    ">  6. System.Console.WriteLine($\"Initialized string   F4 = {myObj.F4}\");\n",
    ">  7. \n",
    ">  8. class MyClass\n",
    ">  9. {\n",
    "> 10.    public int F1;\n",
    "> 11.    public string F2;\n",
    "> 12.    public int F3 = 100;\n",
    "> 13.    public string F4 = \"ASDF\";\n",
    "> 14. }\n",
    "> ```"
   ]
  },
  {
   "cell_type": "markdown",
   "metadata": {},
   "source": [
    "\n",
    "3. Build project โดยการใช้คำสั่ง\n",
    "\n",
    "```\n",
    "    dotnet build  Lab08_Ex04\n",
    "```"
   ]
  },
  {
   "cell_type": "markdown",
   "metadata": {},
   "source": [
    "\n",
    "4. บันทึกผลที่ได้จากการรันคำสั่งในข้อ 3\n"
   ]
  },
  {
   "cell_type": "markdown",
   "metadata": {},
   "source": [
    "*คำตอบ*"
   ]
  },
  {
   "cell_type": "markdown",
   "metadata": {},
   "source": [
    "PS D:\\OOP\\Lab08\\Lab08-CSharp-Class-Part-I-2> dotnet build  Lab08_Ex04            \n",
    "  Determining projects to restore...\n",
    "  All projects are up-to-date for restore.\n",
    "D:\\OOP\\Lab08\\Lab08-CSharp-Class-Part-I-2\\Lab08_Ex04\\Program.cs(11,20): warning CS8618: Non-nullable field 'F2' must contain a non-null value when exi\n",
    "ting constructor. Consider adding the 'required' modifier or declaring the field as nullable. [D:\\OOP\\Lab08\\Lab08-CSharp-Class-Part-I-2\\Lab08_Ex04\\La \n",
    "b08_Ex04.csproj]\n",
    "D:\\OOP\\Lab08\\Lab08-CSharp-Class-Part-I-2\\Lab08_Ex04\\Program.cs(10,17): warning CS0649: Field 'MyClass.F1' is never assigned to, and will always have  \n",
    "its default value 0 [D:\\OOP\\Lab08\\Lab08-CSharp-Class-Part-I-2\\Lab08_Ex04\\Lab08_Ex04.csproj]\n",
    "D:\\OOP\\Lab08\\Lab08-CSharp-Class-Part-I-2\\Lab08_Ex04\\Program.cs(11,20): warning CS0649: Field 'MyClass.F2' is never assigned to, and will always have  \n",
    "its default value null [D:\\OOP\\Lab08\\Lab08-CSharp-Class-Part-I-2\\Lab08_Ex04\\Lab08_Ex04.csproj]\n",
    "  Lab08_Ex04 -> D:\\OOP\\Lab08\\Lab08-CSharp-Class-Part-I-2\\Lab08_Ex04\\bin\\Debug\\net8.0\\Lab08_Ex04.dll\n",
    "\n",
    "Build succeeded.\n",
    "\n",
    "D:\\OOP\\Lab08\\Lab08-CSharp-Class-Part-I-2\\Lab08_Ex04\\Program.cs(11,20): warning CS8618: Non-nullable field 'F2' must contain a non-null value when exi\n",
    "ting constructor. Consider adding the 'required' modifier or declaring the field as nullable. [D:\\OOP\\Lab08\\Lab08-CSharp-Class-Part-I-2\\Lab08_Ex04\\La \n",
    "b08_Ex04.csproj]\n",
    "D:\\OOP\\Lab08\\Lab08-CSharp-Class-Part-I-2\\Lab08_Ex04\\Program.cs(10,17): warning CS0649: Field 'MyClass.F1' is never assigned to, and will always have  \n",
    "its default value 0 [D:\\OOP\\Lab08\\Lab08-CSharp-Class-Part-I-2\\Lab08_Ex04\\Lab08_Ex04.csproj]\n",
    "D:\\OOP\\Lab08\\Lab08-CSharp-Class-Part-I-2\\Lab08_Ex04\\Program.cs(11,20): warning CS0649: Field 'MyClass.F2' is never assigned to, and will always have  \n",
    "its default value null [D:\\OOP\\Lab08\\Lab08-CSharp-Class-Part-I-2\\Lab08_Ex04\\Lab08_Ex04.csproj]\n",
    "    3 Warning(s)\n",
    "    0 Error(s)\n",
    "\n",
    "Time Elapsed 00:00:04.04\n",
    "\n",
    "Workload updates are available. Run `dotnet workload list` for more information."
   ]
  },
  {
   "cell_type": "markdown",
   "metadata": {},
   "source": []
  },
  {
   "cell_type": "markdown",
   "metadata": {},
   "source": [
    "\n",
    "5. Run project โดยการใช้คำสั่ง\n",
    "\n",
    "```\n",
    "    dotnet run --project Lab08_Ex04\n",
    "```"
   ]
  },
  {
   "cell_type": "markdown",
   "metadata": {},
   "source": [
    "\n",
    "6. บันทึกผลที่ได้จากการรันคำสั่งในข้อ 5\n",
    "\n"
   ]
  },
  {
   "cell_type": "markdown",
   "metadata": {},
   "source": [
    "*คำตอบ*"
   ]
  },
  {
   "attachments": {
    "image.png": {
     "image/png": "[encoded data removed]"
    }
   },
   "cell_type": "markdown",
   "metadata": {},
   "source": [
    "![image.png](attachment:image.png)"
   ]
  },
  {
   "cell_type": "markdown",
   "metadata": {},
   "source": []
  },
  {
   "cell_type": "markdown",
   "metadata": {},
   "source": [
    "7. อธิบายสิ่งที่พบในการทดลอง"
   ]
  },
  {
   "cell_type": "markdown",
   "metadata": {},
   "source": [
    "*คำตอบ*"
   ]
  },
  {
   "cell_type": "markdown",
   "metadata": {},
   "source": [
    "ฟิลด์ที่ไม่ได้กำหนดค่าเริ่มต้นจะได้รับค่าเริ่มต้นตามชนิดข้อมูล\n",
    "ชนิดข้อมูลแบบค่า (Value Type): เช่น int จะมีค่าเริ่มต้นเป็น 0,\n",
    "ชนิดข้อมูลแบบอ้างอิง (Reference Type): เช่น string จะมีค่าเริ่มต้นเป็น null"
   ]
  },
  {
   "cell_type": "markdown",
   "metadata": {},
   "source": []
  },
  {
   "cell_type": "markdown",
   "metadata": {},
   "source": [
    "8. นำ code ในข้อ 2 มารันบน polyglot notebook  โดยใส่ใน  code cell ด้านล่างนี้\n"
   ]
  },
  {
   "cell_type": "code",
   "execution_count": null,
   "metadata": {
    "dotnet_interactive": {
     "language": "csharp"
    },
    "polyglot_notebook": {
     "kernelName": "csharp"
    }
   },
   "outputs": [
    {
     "name": "stdout",
     "output_type": "stream",
     "text": [
      "Default integer      F1 = 0\n",
      "Default string       F2 = \n",
      "Initialized integer  F3 = 100\n",
      "Initialized string   F4 = ASDF\n"
     ]
    }
   ],
   "source": [
    "// พื้นที่เขียน code ตามข้อ 2\n",
    "   var myObj = new MyClass();\n",
    "   \n",
    "   System.Console.WriteLine($\"Default integer      F1 = {myObj.F1}\");  //Implicit fields initialization\n",
    "   System.Console.WriteLine($\"Default string       F2 = {myObj.F2}\");\n",
    "   System.Console.WriteLine($\"Initialized integer  F3 = {myObj.F3}\");  //Explicit field initialization\n",
    "   System.Console.WriteLine($\"Initialized string   F4 = {myObj.F4}\");\n",
    "   \n",
    "   class MyClass\n",
    "   {\n",
    "     public int F1;\n",
    "     public string F2;\n",
    "     public int F3 = 100;\n",
    "     public string F4 = \"ASDF\";\n",
    "  }"
   ]
  },
  {
   "cell_type": "markdown",
   "metadata": {},
   "source": [
    "8.1 ผลการรันเป็นอย่างไร\n",
    "\n"
   ]
  },
  {
   "cell_type": "markdown",
   "metadata": {},
   "source": [
    "*คำตอบ*"
   ]
  },
  {
   "attachments": {
    "image.png": {
     "image/png": "[encoded data removed]"
    }
   },
   "cell_type": "markdown",
   "metadata": {},
   "source": [
    "![image.png](attachment:image.png)"
   ]
  },
  {
   "cell_type": "markdown",
   "metadata": {},
   "source": []
  },
  {
   "cell_type": "markdown",
   "metadata": {},
   "source": [
    "8.2 เหมือนหรือต่างจาก console application อย่างไร"
   ]
  },
  {
   "cell_type": "markdown",
   "metadata": {},
   "source": [
    "*คำตอบ*"
   ]
  },
  {
   "cell_type": "markdown",
   "metadata": {},
   "source": [
    "        แสดงผลเหมือนกัน\n",
    "Default integer      F1 = 0\n",
    "\n",
    "Default string       F2 =\n",
    "\n",
    "Initialized integer  F3 = 100\n",
    "\n",
    "Initialized string   F4 = ASDF"
   ]
  },
  {
   "cell_type": "markdown",
   "metadata": {},
   "source": []
  },
  {
   "cell_type": "markdown",
   "metadata": {},
   "source": [
    "## คำถาม"
   ]
  },
  {
   "cell_type": "markdown",
   "metadata": {},
   "source": [
    "1. Field ในภาษา C# คืออะไร\n"
   ]
  },
  {
   "cell_type": "markdown",
   "metadata": {},
   "source": [
    "*คำตอบ*"
   ]
  },
  {
   "cell_type": "markdown",
   "metadata": {},
   "source": [
    "        คือสมาชิกของคลาสหรือสตรัคเจอร์ที่ใช้เก็บข้อมูลหรือสถานะของออบเจ็กต์"
   ]
  },
  {
   "cell_type": "markdown",
   "metadata": {},
   "source": []
  },
  {
   "cell_type": "markdown",
   "metadata": {},
   "source": [
    "2. Field มีหน้าที่อะไรใน class \n"
   ]
  },
  {
   "cell_type": "markdown",
   "metadata": {},
   "source": [
    "*คำตอบ*"
   ]
  },
  {
   "cell_type": "markdown",
   "metadata": {},
   "source": [
    "        เก็บข้อมูลหรือสถานะของออบเจ็กต์,ใช้ร่วมกับเมธอดหรือพร็อพเพอร์ตีเพื่อกำหนดพฤติกรรมของออบเจ็กต์"
   ]
  },
  {
   "cell_type": "markdown",
   "metadata": {},
   "source": []
  },
  {
   "cell_type": "markdown",
   "metadata": {},
   "source": [
    "3. การประกาศ Field ทำได้อย่างไร"
   ]
  },
  {
   "cell_type": "markdown",
   "metadata": {},
   "source": [
    "*คำตอบ*"
   ]
  },
  {
   "cell_type": "markdown",
   "metadata": {},
   "source": [
    "        การประกาศ Field ในคลาสสามารถทำได้โดยระบุชนิดข้อมูลและชื่อ Field"
   ]
  },
  {
   "cell_type": "markdown",
   "metadata": {},
   "source": []
  },
  {
   "cell_type": "markdown",
   "metadata": {},
   "source": [
    "4. Implicit fields initialization  คืออะไร"
   ]
  },
  {
   "cell_type": "markdown",
   "metadata": {},
   "source": [
    "*คำตอบ*"
   ]
  },
  {
   "cell_type": "markdown",
   "metadata": {},
   "source": [
    "        เมื่อประกาศ Field โดยไม่กำหนดค่าเริ่มต้น (explicit initialization) ค่าของ Field นั้นจะถูกกำหนดโดยค่าเริ่มต้นของชนิดข้อมูลนั้น ๆ โดยอัตโนมัติ "
   ]
  },
  {
   "cell_type": "markdown",
   "metadata": {},
   "source": []
  },
  {
   "cell_type": "markdown",
   "metadata": {},
   "source": [
    "5. Explicit field initialization คืออะไร\n",
    "\n"
   ]
  },
  {
   "cell_type": "markdown",
   "metadata": {},
   "source": [
    "*คำตอบ*"
   ]
  },
  {
   "cell_type": "markdown",
   "metadata": {},
   "source": [
    "        การกำหนดค่าเริ่มต้นให้กับ Field โดยตรงในขณะที่ประกาศ Field เรียกว่า explicit initialization"
   ]
  },
  {
   "cell_type": "markdown",
   "metadata": {},
   "source": []
  },
  {
   "cell_type": "markdown",
   "metadata": {},
   "source": [
    "6. Implicit fields initialization  และ Explicit field initialization แตกต่างกันอย่างไร\n",
    "\n"
   ]
  },
  {
   "cell_type": "markdown",
   "metadata": {},
   "source": [
    "*คำตอบ*"
   ]
  },
  {
   "cell_type": "markdown",
   "metadata": {},
   "source": [
    "Implicit Initialization: ระบบจะกำหนดค่าเริ่มต้นให้กับ Field โดยอัตโนมัติตามชนิดข้อมูล หากไม่ได้กำหนดค่าเริ่มต้นเอง\n",
    "\n",
    "Explicit Initialization: ผู้พัฒนากำหนดค่าเริ่มต้นให้กับ Field โดยตรงในขณะที่ประกาศ Field\n",
    "\n",
    "การเลือกใช้ระหว่าง implicit และ explicit initialization ขึ้นอยู่กับความต้องการและความเหมาะสมของโปรแกรม หากต้องการค่าเริ่มต้นเฉพาะเจาะจง ควรใช้ explicit initialization เพื่อความชัดเจนและป้องกันข้อผิดพลาดที่อาจเกิดขึ้น"
   ]
  },
  {
   "cell_type": "markdown",
   "metadata": {},
   "source": []
  }
 ],
 "metadata": {
  "kernelspec": {
   "display_name": ".NET (C#)",
   "language": "C#",
   "name": ".net-csharp"
  },
  "polyglot_notebook": {
   "kernelInfo": {
    "defaultKernelName": "csharp",
    "items": [
     {
      "aliases": [],
      "languageName": "csharp",
      "name": "csharp"
     }
    ]
   }
  }
 },
 "nbformat": 4,
 "nbformat_minor": 2
}
